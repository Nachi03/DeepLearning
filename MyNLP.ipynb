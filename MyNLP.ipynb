{
 "cells": [
  {
   "cell_type": "code",
   "execution_count": 2,
   "metadata": {},
   "outputs": [],
   "source": [
    "import numpy as np\n",
    "import pandas as pd\n",
    "import matplotlib.pyplot as plt\n",
    "import seaborn as sns"
   ]
  },
  {
   "cell_type": "code",
   "execution_count": 3,
   "metadata": {},
   "outputs": [],
   "source": [
    "import tensorflow as tf"
   ]
  },
  {
   "cell_type": "code",
   "execution_count": 4,
   "metadata": {},
   "outputs": [],
   "source": [
    "path=\"shakespeare.txt\""
   ]
  },
  {
   "cell_type": "code",
   "execution_count": 5,
   "metadata": {},
   "outputs": [],
   "source": [
    "text=open(path,'r').read()"
   ]
  },
  {
   "cell_type": "code",
   "execution_count": 6,
   "metadata": {},
   "outputs": [
    {
     "name": "stdout",
     "output_type": "stream",
     "text": [
      "\n",
      "                     1\n",
      "  From fairest creatures we desire increase,\n",
      "  That thereby beauty's rose might never die,\n",
      "  But as the riper should by time decease,\n",
      "  His tender heir might bear his memory:\n",
      "  But thou contracted to thine own bright eyes,\n",
      "  Feed'st thy light's flame with self-substantial fuel,\n",
      "  Making a famine where abundance lies,\n",
      "  Thy self thy foe, to thy sweet self too cruel:\n",
      "  Thou that art now the world's fresh ornament,\n",
      "  And only herald to the gaudy spring,\n",
      "  Within thine own bu\n"
     ]
    }
   ],
   "source": [
    "print(text[:500])"
   ]
  },
  {
   "cell_type": "code",
   "execution_count": 7,
   "metadata": {},
   "outputs": [],
   "source": [
    "vocab=sorted(set(text))"
   ]
  },
  {
   "cell_type": "code",
   "execution_count": 8,
   "metadata": {},
   "outputs": [
    {
     "data": {
      "text/plain": [
       "['\\n',\n",
       " ' ',\n",
       " '!',\n",
       " '\"',\n",
       " '&',\n",
       " \"'\",\n",
       " '(',\n",
       " ')',\n",
       " ',',\n",
       " '-',\n",
       " '.',\n",
       " '0',\n",
       " '1',\n",
       " '2',\n",
       " '3',\n",
       " '4',\n",
       " '5',\n",
       " '6',\n",
       " '7',\n",
       " '8',\n",
       " '9',\n",
       " ':',\n",
       " ';',\n",
       " '<',\n",
       " '>',\n",
       " '?',\n",
       " 'A',\n",
       " 'B',\n",
       " 'C',\n",
       " 'D',\n",
       " 'E',\n",
       " 'F',\n",
       " 'G',\n",
       " 'H',\n",
       " 'I',\n",
       " 'J',\n",
       " 'K',\n",
       " 'L',\n",
       " 'M',\n",
       " 'N',\n",
       " 'O',\n",
       " 'P',\n",
       " 'Q',\n",
       " 'R',\n",
       " 'S',\n",
       " 'T',\n",
       " 'U',\n",
       " 'V',\n",
       " 'W',\n",
       " 'X',\n",
       " 'Y',\n",
       " 'Z',\n",
       " '[',\n",
       " ']',\n",
       " '_',\n",
       " '`',\n",
       " 'a',\n",
       " 'b',\n",
       " 'c',\n",
       " 'd',\n",
       " 'e',\n",
       " 'f',\n",
       " 'g',\n",
       " 'h',\n",
       " 'i',\n",
       " 'j',\n",
       " 'k',\n",
       " 'l',\n",
       " 'm',\n",
       " 'n',\n",
       " 'o',\n",
       " 'p',\n",
       " 'q',\n",
       " 'r',\n",
       " 's',\n",
       " 't',\n",
       " 'u',\n",
       " 'v',\n",
       " 'w',\n",
       " 'x',\n",
       " 'y',\n",
       " 'z',\n",
       " '|',\n",
       " '}']"
      ]
     },
     "execution_count": 8,
     "metadata": {},
     "output_type": "execute_result"
    }
   ],
   "source": [
    "vocab"
   ]
  },
  {
   "cell_type": "code",
   "execution_count": 9,
   "metadata": {},
   "outputs": [
    {
     "data": {
      "text/plain": [
       "84"
      ]
     },
     "execution_count": 9,
     "metadata": {},
     "output_type": "execute_result"
    }
   ],
   "source": [
    "len(vocab)"
   ]
  },
  {
   "cell_type": "code",
   "execution_count": 10,
   "metadata": {},
   "outputs": [],
   "source": [
    "ind_to_char=np.array(vocab)"
   ]
  },
  {
   "cell_type": "code",
   "execution_count": 11,
   "metadata": {},
   "outputs": [
    {
     "data": {
      "text/plain": [
       "'\\n'"
      ]
     },
     "execution_count": 11,
     "metadata": {},
     "output_type": "execute_result"
    }
   ],
   "source": [
    "ind_to_char[0]"
   ]
  },
  {
   "cell_type": "code",
   "execution_count": 12,
   "metadata": {},
   "outputs": [],
   "source": [
    "char_to_ind={char:ind for ind,char in enumerate(vocab)}"
   ]
  },
  {
   "cell_type": "code",
   "execution_count": 13,
   "metadata": {},
   "outputs": [
    {
     "data": {
      "text/plain": [
       "39"
      ]
     },
     "execution_count": 13,
     "metadata": {},
     "output_type": "execute_result"
    }
   ],
   "source": [
    "char_to_ind['N']"
   ]
  },
  {
   "cell_type": "code",
   "execution_count": 14,
   "metadata": {},
   "outputs": [],
   "source": [
    "encoded_text=np.array([char_to_ind[c] for c in text])"
   ]
  },
  {
   "cell_type": "code",
   "execution_count": 15,
   "metadata": {},
   "outputs": [
    {
     "name": "stdout",
     "output_type": "stream",
     "text": [
      "\n",
      "                     1\n",
      "  From fairest creatures we desire increase,\n",
      "  That thereby beauty's rose might never die,\n",
      "  But as the riper should by time decease,\n",
      "  His tender heir might bear his memory:\n",
      "  But thou contracted to thine own bright eyes,\n",
      "  Feed'st thy light's flame with self-substantial fuel,\n",
      "  Making a famine where abundance lies,\n",
      "  Thy self thy foe, to thy sweet self too cruel:\n",
      "  Thou that art now the world's fresh ornament,\n",
      "  And only herald to the gaudy spring,\n",
      "  Within thine own bu\n"
     ]
    }
   ],
   "source": [
    "print(text[:500])"
   ]
  },
  {
   "cell_type": "code",
   "execution_count": 16,
   "metadata": {},
   "outputs": [
    {
     "data": {
      "text/plain": [
       "array([ 0,  1,  1,  1,  1,  1,  1,  1,  1,  1,  1,  1,  1,  1,  1,  1,  1,\n",
       "        1,  1,  1,  1,  1, 12,  0,  1,  1, 31, 73, 70, 68,  1, 61, 56, 64,\n",
       "       73, 60, 74, 75,  1, 58, 73, 60, 56, 75, 76, 73, 60, 74,  1, 78, 60,\n",
       "        1, 59, 60, 74, 64, 73, 60,  1, 64, 69, 58, 73, 60, 56, 74, 60,  8,\n",
       "        0,  1,  1, 45, 63, 56, 75,  1, 75, 63, 60, 73, 60, 57, 80,  1, 57,\n",
       "       60, 56, 76, 75, 80,  5, 74,  1, 73, 70, 74, 60,  1, 68, 64, 62, 63,\n",
       "       75,  1, 69, 60, 77, 60, 73,  1, 59, 64, 60,  8,  0,  1,  1, 27, 76,\n",
       "       75,  1, 56, 74,  1, 75, 63, 60,  1, 73, 64, 71, 60, 73,  1, 74, 63,\n",
       "       70, 76, 67, 59,  1, 57, 80,  1, 75, 64, 68, 60,  1, 59, 60, 58, 60,\n",
       "       56, 74, 60,  8,  0,  1,  1, 33, 64, 74,  1, 75, 60, 69, 59, 60, 73,\n",
       "        1, 63, 60, 64, 73,  1, 68, 64, 62, 63, 75,  1, 57, 60, 56, 73,  1,\n",
       "       63, 64, 74,  1, 68, 60, 68, 70, 73, 80, 21,  0,  1,  1, 27, 76, 75,\n",
       "        1, 75, 63, 70, 76,  1, 58, 70, 69, 75, 73, 56, 58, 75, 60, 59,  1,\n",
       "       75, 70,  1, 75, 63, 64, 69, 60,  1, 70, 78, 69,  1, 57, 73, 64, 62,\n",
       "       63, 75,  1, 60, 80, 60, 74,  8,  0,  1,  1, 31, 60, 60, 59,  5, 74,\n",
       "       75,  1, 75, 63, 80,  1, 67, 64, 62, 63, 75,  5, 74,  1, 61, 67, 56,\n",
       "       68, 60,  1, 78, 64, 75, 63,  1, 74, 60, 67, 61,  9, 74, 76, 57, 74,\n",
       "       75, 56, 69, 75, 64, 56, 67,  1, 61, 76, 60, 67,  8,  0,  1,  1, 38,\n",
       "       56, 66, 64, 69, 62,  1, 56,  1, 61, 56, 68, 64, 69, 60,  1, 78, 63,\n",
       "       60, 73, 60,  1, 56, 57, 76, 69, 59, 56, 69, 58, 60,  1, 67, 64, 60,\n",
       "       74,  8,  0,  1,  1, 45, 63, 80,  1, 74, 60, 67, 61,  1, 75, 63, 80,\n",
       "        1, 61, 70, 60,  8,  1, 75, 70,  1, 75, 63, 80,  1, 74, 78, 60, 60,\n",
       "       75,  1, 74, 60, 67, 61,  1, 75, 70, 70,  1, 58, 73, 76, 60, 67, 21,\n",
       "        0,  1,  1, 45, 63, 70, 76,  1, 75, 63, 56, 75,  1, 56, 73, 75,  1,\n",
       "       69, 70, 78,  1, 75, 63, 60,  1, 78, 70, 73, 67, 59,  5, 74,  1, 61,\n",
       "       73, 60, 74, 63,  1, 70, 73, 69, 56, 68, 60, 69, 75,  8,  0,  1,  1,\n",
       "       26, 69, 59,  1, 70, 69, 67, 80,  1, 63, 60, 73, 56, 67, 59,  1, 75,\n",
       "       70,  1, 75, 63, 60,  1, 62, 56, 76, 59, 80,  1, 74, 71, 73, 64, 69,\n",
       "       62,  8,  0,  1,  1, 48, 64, 75, 63, 64, 69,  1, 75, 63, 64, 69, 60,\n",
       "        1, 70, 78, 69,  1, 57, 76])"
      ]
     },
     "execution_count": 16,
     "metadata": {},
     "output_type": "execute_result"
    }
   ],
   "source": [
    "encoded_text[:500]"
   ]
  },
  {
   "cell_type": "code",
   "execution_count": 17,
   "metadata": {},
   "outputs": [
    {
     "name": "stdout",
     "output_type": "stream",
     "text": [
      "\n",
      "                     1\n",
      "  From fairest creatures we desire increase,\n",
      "  That thereby beauty's rose might never die,\n",
      "  But as the riper should by time decease,\n",
      "  His tender heir might bear his memory:\n",
      "  But thou contracted to thine own bright eyes,\n",
      "  Feed'st thy light's flame with self-substantial fuel,\n",
      "  Making a famine where abundance lies,\n",
      "  Thy self thy foe, to thy sweet self too cruel:\n",
      "  Thou that art now the world's fresh ornament,\n",
      "  And only herald to the gaudy spring,\n",
      "  Within thine own bu\n"
     ]
    }
   ],
   "source": [
    "print(text[:500])"
   ]
  },
  {
   "cell_type": "code",
   "execution_count": 18,
   "metadata": {},
   "outputs": [
    {
     "data": {
      "text/plain": [
       "41"
      ]
     },
     "execution_count": 18,
     "metadata": {},
     "output_type": "execute_result"
    }
   ],
   "source": [
    "len('From fairest creatures we desire increase')"
   ]
  },
  {
   "cell_type": "code",
   "execution_count": 19,
   "metadata": {},
   "outputs": [
    {
     "data": {
      "text/plain": [
       "133"
      ]
     },
     "execution_count": 19,
     "metadata": {},
     "output_type": "execute_result"
    }
   ],
   "source": [
    "len('''\n",
    "From fairest creatures we desire increase,\n",
    "  That thereby beauty's rose might never die,\n",
    "  But as the riper should by time decease\n",
    "\n",
    "''')\n",
    "#for every three lines there is a ryhme in last words of alternative lines..#so we can tkae the seq line as 120"
   ]
  },
  {
   "cell_type": "code",
   "execution_count": 20,
   "metadata": {},
   "outputs": [],
   "source": [
    "seq_len=120"
   ]
  },
  {
   "cell_type": "code",
   "execution_count": 21,
   "metadata": {},
   "outputs": [
    {
     "data": {
      "text/plain": [
       "45005"
      ]
     },
     "execution_count": 21,
     "metadata": {},
     "output_type": "execute_result"
    }
   ],
   "source": [
    "total_seq=len(text)//(seq_len+1)\n",
    "#since index is from 0\n",
    "total_seq"
   ]
  },
  {
   "cell_type": "code",
   "execution_count": 22,
   "metadata": {},
   "outputs": [
    {
     "data": {
      "text/plain": [
       "<TensorSliceDataset shapes: (), types: tf.int32>"
      ]
     },
     "execution_count": 22,
     "metadata": {},
     "output_type": "execute_result"
    }
   ],
   "source": [
    "char_dataset=tf.data.Dataset.from_tensor_slices(encoded_text)#gives tensorslices data set of tensor of the encoded text each one in seperate line\n",
    "char_dataset"
   ]
  },
  {
   "cell_type": "code",
   "execution_count": 23,
   "metadata": {},
   "outputs": [],
   "source": [
    "#EXPLORING"
   ]
  },
  {
   "cell_type": "code",
   "execution_count": 24,
   "metadata": {},
   "outputs": [
    {
     "name": "stdout",
     "output_type": "stream",
     "text": [
      "tf.Tensor(0, shape=(), dtype=int32)\n",
      "tf.Tensor(1, shape=(), dtype=int32)\n",
      "tf.Tensor(1, shape=(), dtype=int32)\n",
      "tf.Tensor(1, shape=(), dtype=int32)\n",
      "tf.Tensor(1, shape=(), dtype=int32)\n",
      "tf.Tensor(1, shape=(), dtype=int32)\n",
      "tf.Tensor(1, shape=(), dtype=int32)\n",
      "tf.Tensor(1, shape=(), dtype=int32)\n",
      "tf.Tensor(1, shape=(), dtype=int32)\n",
      "tf.Tensor(1, shape=(), dtype=int32)\n",
      "tf.Tensor(1, shape=(), dtype=int32)\n",
      "tf.Tensor(1, shape=(), dtype=int32)\n",
      "tf.Tensor(1, shape=(), dtype=int32)\n",
      "tf.Tensor(1, shape=(), dtype=int32)\n",
      "tf.Tensor(1, shape=(), dtype=int32)\n",
      "tf.Tensor(1, shape=(), dtype=int32)\n",
      "tf.Tensor(1, shape=(), dtype=int32)\n",
      "tf.Tensor(1, shape=(), dtype=int32)\n",
      "tf.Tensor(1, shape=(), dtype=int32)\n",
      "tf.Tensor(1, shape=(), dtype=int32)\n",
      "tf.Tensor(1, shape=(), dtype=int32)\n",
      "tf.Tensor(1, shape=(), dtype=int32)\n",
      "tf.Tensor(12, shape=(), dtype=int32)\n",
      "tf.Tensor(0, shape=(), dtype=int32)\n",
      "tf.Tensor(1, shape=(), dtype=int32)\n",
      "tf.Tensor(1, shape=(), dtype=int32)\n",
      "tf.Tensor(31, shape=(), dtype=int32)\n",
      "tf.Tensor(73, shape=(), dtype=int32)\n",
      "tf.Tensor(70, shape=(), dtype=int32)\n",
      "tf.Tensor(68, shape=(), dtype=int32)\n",
      "tf.Tensor(1, shape=(), dtype=int32)\n",
      "tf.Tensor(61, shape=(), dtype=int32)\n",
      "tf.Tensor(56, shape=(), dtype=int32)\n",
      "tf.Tensor(64, shape=(), dtype=int32)\n",
      "tf.Tensor(73, shape=(), dtype=int32)\n",
      "tf.Tensor(60, shape=(), dtype=int32)\n",
      "tf.Tensor(74, shape=(), dtype=int32)\n",
      "tf.Tensor(75, shape=(), dtype=int32)\n",
      "tf.Tensor(1, shape=(), dtype=int32)\n",
      "tf.Tensor(58, shape=(), dtype=int32)\n",
      "tf.Tensor(73, shape=(), dtype=int32)\n",
      "tf.Tensor(60, shape=(), dtype=int32)\n",
      "tf.Tensor(56, shape=(), dtype=int32)\n",
      "tf.Tensor(75, shape=(), dtype=int32)\n",
      "tf.Tensor(76, shape=(), dtype=int32)\n",
      "tf.Tensor(73, shape=(), dtype=int32)\n",
      "tf.Tensor(60, shape=(), dtype=int32)\n",
      "tf.Tensor(74, shape=(), dtype=int32)\n",
      "tf.Tensor(1, shape=(), dtype=int32)\n",
      "tf.Tensor(78, shape=(), dtype=int32)\n",
      "tf.Tensor(60, shape=(), dtype=int32)\n",
      "tf.Tensor(1, shape=(), dtype=int32)\n",
      "tf.Tensor(59, shape=(), dtype=int32)\n",
      "tf.Tensor(60, shape=(), dtype=int32)\n",
      "tf.Tensor(74, shape=(), dtype=int32)\n",
      "tf.Tensor(64, shape=(), dtype=int32)\n",
      "tf.Tensor(73, shape=(), dtype=int32)\n",
      "tf.Tensor(60, shape=(), dtype=int32)\n",
      "tf.Tensor(1, shape=(), dtype=int32)\n",
      "tf.Tensor(64, shape=(), dtype=int32)\n",
      "tf.Tensor(69, shape=(), dtype=int32)\n",
      "tf.Tensor(58, shape=(), dtype=int32)\n",
      "tf.Tensor(73, shape=(), dtype=int32)\n",
      "tf.Tensor(60, shape=(), dtype=int32)\n",
      "tf.Tensor(56, shape=(), dtype=int32)\n",
      "tf.Tensor(74, shape=(), dtype=int32)\n",
      "tf.Tensor(60, shape=(), dtype=int32)\n",
      "tf.Tensor(8, shape=(), dtype=int32)\n",
      "tf.Tensor(0, shape=(), dtype=int32)\n",
      "tf.Tensor(1, shape=(), dtype=int32)\n",
      "tf.Tensor(1, shape=(), dtype=int32)\n",
      "tf.Tensor(45, shape=(), dtype=int32)\n",
      "tf.Tensor(63, shape=(), dtype=int32)\n",
      "tf.Tensor(56, shape=(), dtype=int32)\n",
      "tf.Tensor(75, shape=(), dtype=int32)\n",
      "tf.Tensor(1, shape=(), dtype=int32)\n",
      "tf.Tensor(75, shape=(), dtype=int32)\n",
      "tf.Tensor(63, shape=(), dtype=int32)\n",
      "tf.Tensor(60, shape=(), dtype=int32)\n",
      "tf.Tensor(73, shape=(), dtype=int32)\n",
      "tf.Tensor(60, shape=(), dtype=int32)\n",
      "tf.Tensor(57, shape=(), dtype=int32)\n",
      "tf.Tensor(80, shape=(), dtype=int32)\n",
      "tf.Tensor(1, shape=(), dtype=int32)\n",
      "tf.Tensor(57, shape=(), dtype=int32)\n",
      "tf.Tensor(60, shape=(), dtype=int32)\n",
      "tf.Tensor(56, shape=(), dtype=int32)\n",
      "tf.Tensor(76, shape=(), dtype=int32)\n",
      "tf.Tensor(75, shape=(), dtype=int32)\n",
      "tf.Tensor(80, shape=(), dtype=int32)\n",
      "tf.Tensor(5, shape=(), dtype=int32)\n",
      "tf.Tensor(74, shape=(), dtype=int32)\n",
      "tf.Tensor(1, shape=(), dtype=int32)\n",
      "tf.Tensor(73, shape=(), dtype=int32)\n",
      "tf.Tensor(70, shape=(), dtype=int32)\n",
      "tf.Tensor(74, shape=(), dtype=int32)\n",
      "tf.Tensor(60, shape=(), dtype=int32)\n",
      "tf.Tensor(1, shape=(), dtype=int32)\n",
      "tf.Tensor(68, shape=(), dtype=int32)\n",
      "tf.Tensor(64, shape=(), dtype=int32)\n",
      "tf.Tensor(62, shape=(), dtype=int32)\n",
      "tf.Tensor(63, shape=(), dtype=int32)\n",
      "tf.Tensor(75, shape=(), dtype=int32)\n",
      "tf.Tensor(1, shape=(), dtype=int32)\n",
      "tf.Tensor(69, shape=(), dtype=int32)\n",
      "tf.Tensor(60, shape=(), dtype=int32)\n",
      "tf.Tensor(77, shape=(), dtype=int32)\n",
      "tf.Tensor(60, shape=(), dtype=int32)\n",
      "tf.Tensor(73, shape=(), dtype=int32)\n",
      "tf.Tensor(1, shape=(), dtype=int32)\n",
      "tf.Tensor(59, shape=(), dtype=int32)\n",
      "tf.Tensor(64, shape=(), dtype=int32)\n",
      "tf.Tensor(60, shape=(), dtype=int32)\n",
      "tf.Tensor(8, shape=(), dtype=int32)\n",
      "tf.Tensor(0, shape=(), dtype=int32)\n",
      "tf.Tensor(1, shape=(), dtype=int32)\n",
      "tf.Tensor(1, shape=(), dtype=int32)\n",
      "tf.Tensor(27, shape=(), dtype=int32)\n",
      "tf.Tensor(76, shape=(), dtype=int32)\n",
      "tf.Tensor(75, shape=(), dtype=int32)\n",
      "tf.Tensor(1, shape=(), dtype=int32)\n",
      "tf.Tensor(56, shape=(), dtype=int32)\n",
      "tf.Tensor(74, shape=(), dtype=int32)\n",
      "tf.Tensor(1, shape=(), dtype=int32)\n",
      "tf.Tensor(75, shape=(), dtype=int32)\n",
      "tf.Tensor(63, shape=(), dtype=int32)\n",
      "tf.Tensor(60, shape=(), dtype=int32)\n",
      "tf.Tensor(1, shape=(), dtype=int32)\n",
      "tf.Tensor(73, shape=(), dtype=int32)\n",
      "tf.Tensor(64, shape=(), dtype=int32)\n",
      "tf.Tensor(71, shape=(), dtype=int32)\n",
      "tf.Tensor(60, shape=(), dtype=int32)\n",
      "tf.Tensor(73, shape=(), dtype=int32)\n",
      "tf.Tensor(1, shape=(), dtype=int32)\n",
      "tf.Tensor(74, shape=(), dtype=int32)\n",
      "tf.Tensor(63, shape=(), dtype=int32)\n",
      "tf.Tensor(70, shape=(), dtype=int32)\n",
      "tf.Tensor(76, shape=(), dtype=int32)\n",
      "tf.Tensor(67, shape=(), dtype=int32)\n",
      "tf.Tensor(59, shape=(), dtype=int32)\n",
      "tf.Tensor(1, shape=(), dtype=int32)\n",
      "tf.Tensor(57, shape=(), dtype=int32)\n",
      "tf.Tensor(80, shape=(), dtype=int32)\n",
      "tf.Tensor(1, shape=(), dtype=int32)\n",
      "tf.Tensor(75, shape=(), dtype=int32)\n",
      "tf.Tensor(64, shape=(), dtype=int32)\n",
      "tf.Tensor(68, shape=(), dtype=int32)\n",
      "tf.Tensor(60, shape=(), dtype=int32)\n",
      "tf.Tensor(1, shape=(), dtype=int32)\n",
      "tf.Tensor(59, shape=(), dtype=int32)\n",
      "tf.Tensor(60, shape=(), dtype=int32)\n",
      "tf.Tensor(58, shape=(), dtype=int32)\n",
      "tf.Tensor(60, shape=(), dtype=int32)\n",
      "tf.Tensor(56, shape=(), dtype=int32)\n",
      "tf.Tensor(74, shape=(), dtype=int32)\n",
      "tf.Tensor(60, shape=(), dtype=int32)\n",
      "tf.Tensor(8, shape=(), dtype=int32)\n",
      "tf.Tensor(0, shape=(), dtype=int32)\n",
      "tf.Tensor(1, shape=(), dtype=int32)\n",
      "tf.Tensor(1, shape=(), dtype=int32)\n",
      "tf.Tensor(33, shape=(), dtype=int32)\n",
      "tf.Tensor(64, shape=(), dtype=int32)\n",
      "tf.Tensor(74, shape=(), dtype=int32)\n",
      "tf.Tensor(1, shape=(), dtype=int32)\n",
      "tf.Tensor(75, shape=(), dtype=int32)\n",
      "tf.Tensor(60, shape=(), dtype=int32)\n",
      "tf.Tensor(69, shape=(), dtype=int32)\n",
      "tf.Tensor(59, shape=(), dtype=int32)\n",
      "tf.Tensor(60, shape=(), dtype=int32)\n",
      "tf.Tensor(73, shape=(), dtype=int32)\n",
      "tf.Tensor(1, shape=(), dtype=int32)\n",
      "tf.Tensor(63, shape=(), dtype=int32)\n",
      "tf.Tensor(60, shape=(), dtype=int32)\n",
      "tf.Tensor(64, shape=(), dtype=int32)\n",
      "tf.Tensor(73, shape=(), dtype=int32)\n",
      "tf.Tensor(1, shape=(), dtype=int32)\n",
      "tf.Tensor(68, shape=(), dtype=int32)\n",
      "tf.Tensor(64, shape=(), dtype=int32)\n",
      "tf.Tensor(62, shape=(), dtype=int32)\n",
      "tf.Tensor(63, shape=(), dtype=int32)\n",
      "tf.Tensor(75, shape=(), dtype=int32)\n",
      "tf.Tensor(1, shape=(), dtype=int32)\n",
      "tf.Tensor(57, shape=(), dtype=int32)\n",
      "tf.Tensor(60, shape=(), dtype=int32)\n",
      "tf.Tensor(56, shape=(), dtype=int32)\n",
      "tf.Tensor(73, shape=(), dtype=int32)\n",
      "tf.Tensor(1, shape=(), dtype=int32)\n",
      "tf.Tensor(63, shape=(), dtype=int32)\n",
      "tf.Tensor(64, shape=(), dtype=int32)\n",
      "tf.Tensor(74, shape=(), dtype=int32)\n",
      "tf.Tensor(1, shape=(), dtype=int32)\n",
      "tf.Tensor(68, shape=(), dtype=int32)\n",
      "tf.Tensor(60, shape=(), dtype=int32)\n",
      "tf.Tensor(68, shape=(), dtype=int32)\n",
      "tf.Tensor(70, shape=(), dtype=int32)\n",
      "tf.Tensor(73, shape=(), dtype=int32)\n",
      "tf.Tensor(80, shape=(), dtype=int32)\n",
      "tf.Tensor(21, shape=(), dtype=int32)\n",
      "tf.Tensor(0, shape=(), dtype=int32)\n",
      "tf.Tensor(1, shape=(), dtype=int32)\n",
      "tf.Tensor(1, shape=(), dtype=int32)\n",
      "tf.Tensor(27, shape=(), dtype=int32)\n",
      "tf.Tensor(76, shape=(), dtype=int32)\n",
      "tf.Tensor(75, shape=(), dtype=int32)\n",
      "tf.Tensor(1, shape=(), dtype=int32)\n",
      "tf.Tensor(75, shape=(), dtype=int32)\n",
      "tf.Tensor(63, shape=(), dtype=int32)\n",
      "tf.Tensor(70, shape=(), dtype=int32)\n",
      "tf.Tensor(76, shape=(), dtype=int32)\n",
      "tf.Tensor(1, shape=(), dtype=int32)\n",
      "tf.Tensor(58, shape=(), dtype=int32)\n",
      "tf.Tensor(70, shape=(), dtype=int32)\n",
      "tf.Tensor(69, shape=(), dtype=int32)\n",
      "tf.Tensor(75, shape=(), dtype=int32)\n",
      "tf.Tensor(73, shape=(), dtype=int32)\n",
      "tf.Tensor(56, shape=(), dtype=int32)\n",
      "tf.Tensor(58, shape=(), dtype=int32)\n",
      "tf.Tensor(75, shape=(), dtype=int32)\n",
      "tf.Tensor(60, shape=(), dtype=int32)\n",
      "tf.Tensor(59, shape=(), dtype=int32)\n",
      "tf.Tensor(1, shape=(), dtype=int32)\n",
      "tf.Tensor(75, shape=(), dtype=int32)\n",
      "tf.Tensor(70, shape=(), dtype=int32)\n",
      "tf.Tensor(1, shape=(), dtype=int32)\n",
      "tf.Tensor(75, shape=(), dtype=int32)\n",
      "tf.Tensor(63, shape=(), dtype=int32)\n",
      "tf.Tensor(64, shape=(), dtype=int32)\n",
      "tf.Tensor(69, shape=(), dtype=int32)\n",
      "tf.Tensor(60, shape=(), dtype=int32)\n",
      "tf.Tensor(1, shape=(), dtype=int32)\n",
      "tf.Tensor(70, shape=(), dtype=int32)\n",
      "tf.Tensor(78, shape=(), dtype=int32)\n",
      "tf.Tensor(69, shape=(), dtype=int32)\n",
      "tf.Tensor(1, shape=(), dtype=int32)\n",
      "tf.Tensor(57, shape=(), dtype=int32)\n",
      "tf.Tensor(73, shape=(), dtype=int32)\n",
      "tf.Tensor(64, shape=(), dtype=int32)\n",
      "tf.Tensor(62, shape=(), dtype=int32)\n",
      "tf.Tensor(63, shape=(), dtype=int32)\n",
      "tf.Tensor(75, shape=(), dtype=int32)\n",
      "tf.Tensor(1, shape=(), dtype=int32)\n",
      "tf.Tensor(60, shape=(), dtype=int32)\n",
      "tf.Tensor(80, shape=(), dtype=int32)\n",
      "tf.Tensor(60, shape=(), dtype=int32)\n",
      "tf.Tensor(74, shape=(), dtype=int32)\n",
      "tf.Tensor(8, shape=(), dtype=int32)\n",
      "tf.Tensor(0, shape=(), dtype=int32)\n",
      "tf.Tensor(1, shape=(), dtype=int32)\n",
      "tf.Tensor(1, shape=(), dtype=int32)\n",
      "tf.Tensor(31, shape=(), dtype=int32)\n",
      "tf.Tensor(60, shape=(), dtype=int32)\n",
      "tf.Tensor(60, shape=(), dtype=int32)\n",
      "tf.Tensor(59, shape=(), dtype=int32)\n",
      "tf.Tensor(5, shape=(), dtype=int32)\n",
      "tf.Tensor(74, shape=(), dtype=int32)\n",
      "tf.Tensor(75, shape=(), dtype=int32)\n",
      "tf.Tensor(1, shape=(), dtype=int32)\n",
      "tf.Tensor(75, shape=(), dtype=int32)\n",
      "tf.Tensor(63, shape=(), dtype=int32)\n",
      "tf.Tensor(80, shape=(), dtype=int32)\n",
      "tf.Tensor(1, shape=(), dtype=int32)\n",
      "tf.Tensor(67, shape=(), dtype=int32)\n",
      "tf.Tensor(64, shape=(), dtype=int32)\n",
      "tf.Tensor(62, shape=(), dtype=int32)\n",
      "tf.Tensor(63, shape=(), dtype=int32)\n",
      "tf.Tensor(75, shape=(), dtype=int32)\n",
      "tf.Tensor(5, shape=(), dtype=int32)\n",
      "tf.Tensor(74, shape=(), dtype=int32)\n",
      "tf.Tensor(1, shape=(), dtype=int32)\n",
      "tf.Tensor(61, shape=(), dtype=int32)\n",
      "tf.Tensor(67, shape=(), dtype=int32)\n",
      "tf.Tensor(56, shape=(), dtype=int32)\n",
      "tf.Tensor(68, shape=(), dtype=int32)\n",
      "tf.Tensor(60, shape=(), dtype=int32)\n",
      "tf.Tensor(1, shape=(), dtype=int32)\n",
      "tf.Tensor(78, shape=(), dtype=int32)\n",
      "tf.Tensor(64, shape=(), dtype=int32)\n",
      "tf.Tensor(75, shape=(), dtype=int32)\n",
      "tf.Tensor(63, shape=(), dtype=int32)\n",
      "tf.Tensor(1, shape=(), dtype=int32)\n",
      "tf.Tensor(74, shape=(), dtype=int32)\n",
      "tf.Tensor(60, shape=(), dtype=int32)\n",
      "tf.Tensor(67, shape=(), dtype=int32)\n",
      "tf.Tensor(61, shape=(), dtype=int32)\n",
      "tf.Tensor(9, shape=(), dtype=int32)\n",
      "tf.Tensor(74, shape=(), dtype=int32)\n",
      "tf.Tensor(76, shape=(), dtype=int32)\n",
      "tf.Tensor(57, shape=(), dtype=int32)\n",
      "tf.Tensor(74, shape=(), dtype=int32)\n",
      "tf.Tensor(75, shape=(), dtype=int32)\n",
      "tf.Tensor(56, shape=(), dtype=int32)\n",
      "tf.Tensor(69, shape=(), dtype=int32)\n",
      "tf.Tensor(75, shape=(), dtype=int32)\n",
      "tf.Tensor(64, shape=(), dtype=int32)\n",
      "tf.Tensor(56, shape=(), dtype=int32)\n",
      "tf.Tensor(67, shape=(), dtype=int32)\n",
      "tf.Tensor(1, shape=(), dtype=int32)\n",
      "tf.Tensor(61, shape=(), dtype=int32)\n",
      "tf.Tensor(76, shape=(), dtype=int32)\n",
      "tf.Tensor(60, shape=(), dtype=int32)\n",
      "tf.Tensor(67, shape=(), dtype=int32)\n",
      "tf.Tensor(8, shape=(), dtype=int32)\n",
      "tf.Tensor(0, shape=(), dtype=int32)\n",
      "tf.Tensor(1, shape=(), dtype=int32)\n",
      "tf.Tensor(1, shape=(), dtype=int32)\n",
      "tf.Tensor(38, shape=(), dtype=int32)\n",
      "tf.Tensor(56, shape=(), dtype=int32)\n",
      "tf.Tensor(66, shape=(), dtype=int32)\n",
      "tf.Tensor(64, shape=(), dtype=int32)\n",
      "tf.Tensor(69, shape=(), dtype=int32)\n",
      "tf.Tensor(62, shape=(), dtype=int32)\n",
      "tf.Tensor(1, shape=(), dtype=int32)\n",
      "tf.Tensor(56, shape=(), dtype=int32)\n",
      "tf.Tensor(1, shape=(), dtype=int32)\n",
      "tf.Tensor(61, shape=(), dtype=int32)\n",
      "tf.Tensor(56, shape=(), dtype=int32)\n",
      "tf.Tensor(68, shape=(), dtype=int32)\n",
      "tf.Tensor(64, shape=(), dtype=int32)\n",
      "tf.Tensor(69, shape=(), dtype=int32)\n",
      "tf.Tensor(60, shape=(), dtype=int32)\n",
      "tf.Tensor(1, shape=(), dtype=int32)\n",
      "tf.Tensor(78, shape=(), dtype=int32)\n",
      "tf.Tensor(63, shape=(), dtype=int32)\n",
      "tf.Tensor(60, shape=(), dtype=int32)\n",
      "tf.Tensor(73, shape=(), dtype=int32)\n",
      "tf.Tensor(60, shape=(), dtype=int32)\n",
      "tf.Tensor(1, shape=(), dtype=int32)\n",
      "tf.Tensor(56, shape=(), dtype=int32)\n",
      "tf.Tensor(57, shape=(), dtype=int32)\n",
      "tf.Tensor(76, shape=(), dtype=int32)\n",
      "tf.Tensor(69, shape=(), dtype=int32)\n",
      "tf.Tensor(59, shape=(), dtype=int32)\n",
      "tf.Tensor(56, shape=(), dtype=int32)\n",
      "tf.Tensor(69, shape=(), dtype=int32)\n",
      "tf.Tensor(58, shape=(), dtype=int32)\n",
      "tf.Tensor(60, shape=(), dtype=int32)\n",
      "tf.Tensor(1, shape=(), dtype=int32)\n",
      "tf.Tensor(67, shape=(), dtype=int32)\n",
      "tf.Tensor(64, shape=(), dtype=int32)\n",
      "tf.Tensor(60, shape=(), dtype=int32)\n",
      "tf.Tensor(74, shape=(), dtype=int32)\n",
      "tf.Tensor(8, shape=(), dtype=int32)\n",
      "tf.Tensor(0, shape=(), dtype=int32)\n",
      "tf.Tensor(1, shape=(), dtype=int32)\n",
      "tf.Tensor(1, shape=(), dtype=int32)\n",
      "tf.Tensor(45, shape=(), dtype=int32)\n",
      "tf.Tensor(63, shape=(), dtype=int32)\n",
      "tf.Tensor(80, shape=(), dtype=int32)\n",
      "tf.Tensor(1, shape=(), dtype=int32)\n",
      "tf.Tensor(74, shape=(), dtype=int32)\n",
      "tf.Tensor(60, shape=(), dtype=int32)\n",
      "tf.Tensor(67, shape=(), dtype=int32)\n",
      "tf.Tensor(61, shape=(), dtype=int32)\n",
      "tf.Tensor(1, shape=(), dtype=int32)\n",
      "tf.Tensor(75, shape=(), dtype=int32)\n",
      "tf.Tensor(63, shape=(), dtype=int32)\n",
      "tf.Tensor(80, shape=(), dtype=int32)\n",
      "tf.Tensor(1, shape=(), dtype=int32)\n",
      "tf.Tensor(61, shape=(), dtype=int32)\n",
      "tf.Tensor(70, shape=(), dtype=int32)\n",
      "tf.Tensor(60, shape=(), dtype=int32)\n",
      "tf.Tensor(8, shape=(), dtype=int32)\n",
      "tf.Tensor(1, shape=(), dtype=int32)\n",
      "tf.Tensor(75, shape=(), dtype=int32)\n",
      "tf.Tensor(70, shape=(), dtype=int32)\n",
      "tf.Tensor(1, shape=(), dtype=int32)\n",
      "tf.Tensor(75, shape=(), dtype=int32)\n",
      "tf.Tensor(63, shape=(), dtype=int32)\n",
      "tf.Tensor(80, shape=(), dtype=int32)\n",
      "tf.Tensor(1, shape=(), dtype=int32)\n",
      "tf.Tensor(74, shape=(), dtype=int32)\n",
      "tf.Tensor(78, shape=(), dtype=int32)\n",
      "tf.Tensor(60, shape=(), dtype=int32)\n",
      "tf.Tensor(60, shape=(), dtype=int32)\n",
      "tf.Tensor(75, shape=(), dtype=int32)\n",
      "tf.Tensor(1, shape=(), dtype=int32)\n",
      "tf.Tensor(74, shape=(), dtype=int32)\n",
      "tf.Tensor(60, shape=(), dtype=int32)\n",
      "tf.Tensor(67, shape=(), dtype=int32)\n",
      "tf.Tensor(61, shape=(), dtype=int32)\n",
      "tf.Tensor(1, shape=(), dtype=int32)\n",
      "tf.Tensor(75, shape=(), dtype=int32)\n",
      "tf.Tensor(70, shape=(), dtype=int32)\n",
      "tf.Tensor(70, shape=(), dtype=int32)\n",
      "tf.Tensor(1, shape=(), dtype=int32)\n",
      "tf.Tensor(58, shape=(), dtype=int32)\n",
      "tf.Tensor(73, shape=(), dtype=int32)\n",
      "tf.Tensor(76, shape=(), dtype=int32)\n",
      "tf.Tensor(60, shape=(), dtype=int32)\n",
      "tf.Tensor(67, shape=(), dtype=int32)\n",
      "tf.Tensor(21, shape=(), dtype=int32)\n",
      "tf.Tensor(0, shape=(), dtype=int32)\n",
      "tf.Tensor(1, shape=(), dtype=int32)\n",
      "tf.Tensor(1, shape=(), dtype=int32)\n",
      "tf.Tensor(45, shape=(), dtype=int32)\n",
      "tf.Tensor(63, shape=(), dtype=int32)\n",
      "tf.Tensor(70, shape=(), dtype=int32)\n",
      "tf.Tensor(76, shape=(), dtype=int32)\n",
      "tf.Tensor(1, shape=(), dtype=int32)\n",
      "tf.Tensor(75, shape=(), dtype=int32)\n",
      "tf.Tensor(63, shape=(), dtype=int32)\n",
      "tf.Tensor(56, shape=(), dtype=int32)\n",
      "tf.Tensor(75, shape=(), dtype=int32)\n",
      "tf.Tensor(1, shape=(), dtype=int32)\n",
      "tf.Tensor(56, shape=(), dtype=int32)\n",
      "tf.Tensor(73, shape=(), dtype=int32)\n",
      "tf.Tensor(75, shape=(), dtype=int32)\n",
      "tf.Tensor(1, shape=(), dtype=int32)\n",
      "tf.Tensor(69, shape=(), dtype=int32)\n",
      "tf.Tensor(70, shape=(), dtype=int32)\n",
      "tf.Tensor(78, shape=(), dtype=int32)\n",
      "tf.Tensor(1, shape=(), dtype=int32)\n",
      "tf.Tensor(75, shape=(), dtype=int32)\n",
      "tf.Tensor(63, shape=(), dtype=int32)\n",
      "tf.Tensor(60, shape=(), dtype=int32)\n",
      "tf.Tensor(1, shape=(), dtype=int32)\n",
      "tf.Tensor(78, shape=(), dtype=int32)\n",
      "tf.Tensor(70, shape=(), dtype=int32)\n",
      "tf.Tensor(73, shape=(), dtype=int32)\n",
      "tf.Tensor(67, shape=(), dtype=int32)\n",
      "tf.Tensor(59, shape=(), dtype=int32)\n",
      "tf.Tensor(5, shape=(), dtype=int32)\n",
      "tf.Tensor(74, shape=(), dtype=int32)\n",
      "tf.Tensor(1, shape=(), dtype=int32)\n",
      "tf.Tensor(61, shape=(), dtype=int32)\n",
      "tf.Tensor(73, shape=(), dtype=int32)\n",
      "tf.Tensor(60, shape=(), dtype=int32)\n",
      "tf.Tensor(74, shape=(), dtype=int32)\n",
      "tf.Tensor(63, shape=(), dtype=int32)\n",
      "tf.Tensor(1, shape=(), dtype=int32)\n",
      "tf.Tensor(70, shape=(), dtype=int32)\n",
      "tf.Tensor(73, shape=(), dtype=int32)\n",
      "tf.Tensor(69, shape=(), dtype=int32)\n",
      "tf.Tensor(56, shape=(), dtype=int32)\n",
      "tf.Tensor(68, shape=(), dtype=int32)\n",
      "tf.Tensor(60, shape=(), dtype=int32)\n",
      "tf.Tensor(69, shape=(), dtype=int32)\n",
      "tf.Tensor(75, shape=(), dtype=int32)\n",
      "tf.Tensor(8, shape=(), dtype=int32)\n",
      "tf.Tensor(0, shape=(), dtype=int32)\n",
      "tf.Tensor(1, shape=(), dtype=int32)\n",
      "tf.Tensor(1, shape=(), dtype=int32)\n",
      "tf.Tensor(26, shape=(), dtype=int32)\n",
      "tf.Tensor(69, shape=(), dtype=int32)\n",
      "tf.Tensor(59, shape=(), dtype=int32)\n",
      "tf.Tensor(1, shape=(), dtype=int32)\n",
      "tf.Tensor(70, shape=(), dtype=int32)\n",
      "tf.Tensor(69, shape=(), dtype=int32)\n",
      "tf.Tensor(67, shape=(), dtype=int32)\n",
      "tf.Tensor(80, shape=(), dtype=int32)\n",
      "tf.Tensor(1, shape=(), dtype=int32)\n",
      "tf.Tensor(63, shape=(), dtype=int32)\n",
      "tf.Tensor(60, shape=(), dtype=int32)\n",
      "tf.Tensor(73, shape=(), dtype=int32)\n",
      "tf.Tensor(56, shape=(), dtype=int32)\n",
      "tf.Tensor(67, shape=(), dtype=int32)\n",
      "tf.Tensor(59, shape=(), dtype=int32)\n",
      "tf.Tensor(1, shape=(), dtype=int32)\n",
      "tf.Tensor(75, shape=(), dtype=int32)\n",
      "tf.Tensor(70, shape=(), dtype=int32)\n",
      "tf.Tensor(1, shape=(), dtype=int32)\n",
      "tf.Tensor(75, shape=(), dtype=int32)\n",
      "tf.Tensor(63, shape=(), dtype=int32)\n",
      "tf.Tensor(60, shape=(), dtype=int32)\n",
      "tf.Tensor(1, shape=(), dtype=int32)\n",
      "tf.Tensor(62, shape=(), dtype=int32)\n",
      "tf.Tensor(56, shape=(), dtype=int32)\n",
      "tf.Tensor(76, shape=(), dtype=int32)\n",
      "tf.Tensor(59, shape=(), dtype=int32)\n",
      "tf.Tensor(80, shape=(), dtype=int32)\n",
      "tf.Tensor(1, shape=(), dtype=int32)\n",
      "tf.Tensor(74, shape=(), dtype=int32)\n",
      "tf.Tensor(71, shape=(), dtype=int32)\n",
      "tf.Tensor(73, shape=(), dtype=int32)\n",
      "tf.Tensor(64, shape=(), dtype=int32)\n",
      "tf.Tensor(69, shape=(), dtype=int32)\n",
      "tf.Tensor(62, shape=(), dtype=int32)\n",
      "tf.Tensor(8, shape=(), dtype=int32)\n",
      "tf.Tensor(0, shape=(), dtype=int32)\n",
      "tf.Tensor(1, shape=(), dtype=int32)\n",
      "tf.Tensor(1, shape=(), dtype=int32)\n",
      "tf.Tensor(48, shape=(), dtype=int32)\n",
      "tf.Tensor(64, shape=(), dtype=int32)\n",
      "tf.Tensor(75, shape=(), dtype=int32)\n",
      "tf.Tensor(63, shape=(), dtype=int32)\n",
      "tf.Tensor(64, shape=(), dtype=int32)\n",
      "tf.Tensor(69, shape=(), dtype=int32)\n",
      "tf.Tensor(1, shape=(), dtype=int32)\n",
      "tf.Tensor(75, shape=(), dtype=int32)\n",
      "tf.Tensor(63, shape=(), dtype=int32)\n",
      "tf.Tensor(64, shape=(), dtype=int32)\n",
      "tf.Tensor(69, shape=(), dtype=int32)\n",
      "tf.Tensor(60, shape=(), dtype=int32)\n",
      "tf.Tensor(1, shape=(), dtype=int32)\n",
      "tf.Tensor(70, shape=(), dtype=int32)\n",
      "tf.Tensor(78, shape=(), dtype=int32)\n",
      "tf.Tensor(69, shape=(), dtype=int32)\n",
      "tf.Tensor(1, shape=(), dtype=int32)\n",
      "tf.Tensor(57, shape=(), dtype=int32)\n",
      "tf.Tensor(76, shape=(), dtype=int32)\n"
     ]
    }
   ],
   "source": [
    "for i in char_dataset.take(500):\n",
    "    print(i)"
   ]
  },
  {
   "cell_type": "code",
   "execution_count": 25,
   "metadata": {},
   "outputs": [
    {
     "name": "stdout",
     "output_type": "stream",
     "text": [
      "\n",
      "\n",
      " \n",
      " \n",
      " \n",
      " \n",
      " \n",
      " \n",
      " \n",
      " \n",
      " \n",
      " \n",
      " \n",
      " \n",
      " \n",
      " \n",
      " \n",
      " \n",
      " \n",
      " \n",
      " \n",
      " \n",
      " \n",
      "1\n",
      "\n",
      "\n",
      " \n",
      " \n",
      "F\n",
      "r\n",
      "o\n",
      "m\n",
      " \n",
      "f\n",
      "a\n",
      "i\n",
      "r\n",
      "e\n",
      "s\n",
      "t\n",
      " \n",
      "c\n",
      "r\n",
      "e\n",
      "a\n",
      "t\n",
      "u\n",
      "r\n",
      "e\n",
      "s\n",
      " \n",
      "w\n",
      "e\n",
      " \n",
      "d\n",
      "e\n",
      "s\n",
      "i\n",
      "r\n",
      "e\n",
      " \n",
      "i\n",
      "n\n",
      "c\n",
      "r\n",
      "e\n",
      "a\n",
      "s\n",
      "e\n",
      ",\n",
      "\n",
      "\n",
      " \n",
      " \n",
      "T\n",
      "h\n",
      "a\n",
      "t\n",
      " \n",
      "t\n",
      "h\n",
      "e\n",
      "r\n",
      "e\n",
      "b\n",
      "y\n",
      " \n",
      "b\n",
      "e\n",
      "a\n",
      "u\n",
      "t\n",
      "y\n",
      "'\n",
      "s\n",
      " \n",
      "r\n",
      "o\n",
      "s\n",
      "e\n",
      " \n",
      "m\n",
      "i\n",
      "g\n",
      "h\n",
      "t\n",
      " \n",
      "n\n",
      "e\n",
      "v\n",
      "e\n",
      "r\n",
      " \n",
      "d\n",
      "i\n",
      "e\n",
      ",\n",
      "\n",
      "\n",
      " \n",
      " \n",
      "B\n",
      "u\n",
      "t\n",
      " \n",
      "a\n",
      "s\n",
      " \n",
      "t\n",
      "h\n",
      "e\n",
      " \n",
      "r\n",
      "i\n",
      "p\n",
      "e\n",
      "r\n",
      " \n",
      "s\n",
      "h\n",
      "o\n",
      "u\n",
      "l\n",
      "d\n",
      " \n",
      "b\n",
      "y\n",
      " \n",
      "t\n",
      "i\n",
      "m\n",
      "e\n",
      " \n",
      "d\n",
      "e\n",
      "c\n",
      "e\n",
      "a\n",
      "s\n",
      "e\n",
      ",\n",
      "\n",
      "\n",
      " \n",
      " \n",
      "H\n",
      "i\n",
      "s\n",
      " \n",
      "t\n",
      "e\n",
      "n\n",
      "d\n",
      "e\n",
      "r\n",
      " \n",
      "h\n",
      "e\n",
      "i\n",
      "r\n",
      " \n",
      "m\n",
      "i\n",
      "g\n",
      "h\n",
      "t\n",
      " \n",
      "b\n",
      "e\n",
      "a\n",
      "r\n",
      " \n",
      "h\n",
      "i\n",
      "s\n",
      " \n",
      "m\n",
      "e\n",
      "m\n",
      "o\n",
      "r\n",
      "y\n",
      ":\n",
      "\n",
      "\n",
      " \n",
      " \n",
      "B\n",
      "u\n",
      "t\n",
      " \n",
      "t\n",
      "h\n",
      "o\n",
      "u\n",
      " \n",
      "c\n",
      "o\n",
      "n\n",
      "t\n",
      "r\n",
      "a\n",
      "c\n",
      "t\n",
      "e\n",
      "d\n",
      " \n",
      "t\n",
      "o\n",
      " \n",
      "t\n",
      "h\n",
      "i\n",
      "n\n",
      "e\n",
      " \n",
      "o\n",
      "w\n",
      "n\n",
      " \n",
      "b\n",
      "r\n",
      "i\n",
      "g\n",
      "h\n",
      "t\n",
      " \n",
      "e\n",
      "y\n",
      "e\n",
      "s\n",
      ",\n",
      "\n",
      "\n",
      " \n",
      " \n",
      "F\n",
      "e\n",
      "e\n",
      "d\n",
      "'\n",
      "s\n",
      "t\n",
      " \n",
      "t\n",
      "h\n",
      "y\n",
      " \n",
      "l\n",
      "i\n",
      "g\n",
      "h\n",
      "t\n",
      "'\n",
      "s\n",
      " \n",
      "f\n",
      "l\n",
      "a\n",
      "m\n",
      "e\n",
      " \n",
      "w\n",
      "i\n",
      "t\n",
      "h\n",
      " \n",
      "s\n",
      "e\n",
      "l\n",
      "f\n",
      "-\n",
      "s\n",
      "u\n",
      "b\n",
      "s\n",
      "t\n",
      "a\n",
      "n\n",
      "t\n",
      "i\n",
      "a\n",
      "l\n",
      " \n",
      "f\n",
      "u\n",
      "e\n",
      "l\n",
      ",\n",
      "\n",
      "\n",
      " \n",
      " \n",
      "M\n",
      "a\n",
      "k\n",
      "i\n",
      "n\n",
      "g\n",
      " \n",
      "a\n",
      " \n",
      "f\n",
      "a\n",
      "m\n",
      "i\n",
      "n\n",
      "e\n",
      " \n",
      "w\n",
      "h\n",
      "e\n",
      "r\n",
      "e\n",
      " \n",
      "a\n",
      "b\n",
      "u\n",
      "n\n",
      "d\n",
      "a\n",
      "n\n",
      "c\n",
      "e\n",
      " \n",
      "l\n",
      "i\n",
      "e\n",
      "s\n",
      ",\n",
      "\n",
      "\n",
      " \n",
      " \n",
      "T\n",
      "h\n",
      "y\n",
      " \n",
      "s\n",
      "e\n",
      "l\n",
      "f\n",
      " \n",
      "t\n",
      "h\n",
      "y\n",
      " \n",
      "f\n",
      "o\n",
      "e\n",
      ",\n",
      " \n",
      "t\n",
      "o\n",
      " \n",
      "t\n",
      "h\n",
      "y\n",
      " \n",
      "s\n",
      "w\n",
      "e\n",
      "e\n",
      "t\n",
      " \n",
      "s\n",
      "e\n",
      "l\n",
      "f\n",
      " \n",
      "t\n",
      "o\n",
      "o\n",
      " \n",
      "c\n",
      "r\n",
      "u\n",
      "e\n",
      "l\n",
      ":\n",
      "\n",
      "\n",
      " \n",
      " \n",
      "T\n",
      "h\n",
      "o\n",
      "u\n",
      " \n",
      "t\n",
      "h\n",
      "a\n",
      "t\n",
      " \n",
      "a\n",
      "r\n",
      "t\n",
      " \n",
      "n\n",
      "o\n",
      "w\n",
      " \n",
      "t\n",
      "h\n",
      "e\n",
      " \n",
      "w\n",
      "o\n",
      "r\n",
      "l\n",
      "d\n",
      "'\n",
      "s\n",
      " \n",
      "f\n",
      "r\n",
      "e\n",
      "s\n",
      "h\n",
      " \n",
      "o\n",
      "r\n",
      "n\n",
      "a\n",
      "m\n",
      "e\n",
      "n\n",
      "t\n",
      ",\n",
      "\n",
      "\n",
      " \n",
      " \n",
      "A\n",
      "n\n",
      "d\n",
      " \n",
      "o\n",
      "n\n",
      "l\n",
      "y\n",
      " \n",
      "h\n",
      "e\n",
      "r\n",
      "a\n",
      "l\n",
      "d\n",
      " \n",
      "t\n",
      "o\n",
      " \n",
      "t\n",
      "h\n",
      "e\n",
      " \n",
      "g\n",
      "a\n",
      "u\n",
      "d\n",
      "y\n",
      " \n",
      "s\n",
      "p\n",
      "r\n",
      "i\n",
      "n\n",
      "g\n",
      ",\n",
      "\n",
      "\n",
      " \n",
      " \n",
      "W\n",
      "i\n",
      "t\n",
      "h\n",
      "i\n",
      "n\n",
      " \n",
      "t\n",
      "h\n",
      "i\n",
      "n\n",
      "e\n",
      " \n",
      "o\n",
      "w\n",
      "n\n",
      " \n",
      "b\n",
      "u\n"
     ]
    }
   ],
   "source": [
    "for i in char_dataset.take(500):\n",
    "    print(ind_to_char[i.numpy()])"
   ]
  },
  {
   "cell_type": "code",
   "execution_count": 26,
   "metadata": {},
   "outputs": [],
   "source": [
    "sequence=char_dataset.batch(seq_len+1,drop_remainder=True)"
   ]
  },
  {
   "cell_type": "code",
   "execution_count": 27,
   "metadata": {},
   "outputs": [],
   "source": [
    "def convert(seq):\n",
    "    input_data=seq[:-1]\n",
    "    target_data=seq[1:]\n",
    "    return input_data,target_data"
   ]
  },
  {
   "cell_type": "code",
   "execution_count": null,
   "metadata": {},
   "outputs": [],
   "source": []
  },
  {
   "cell_type": "code",
   "execution_count": 28,
   "metadata": {},
   "outputs": [],
   "source": [
    "summ=0\n",
    "for i in sequence:\n",
    "    summ=summ+1 #i is 120 long string in tensor slice(consiting of 120 tensor each one in seperate line) data type (3 lines)\n",
    "   "
   ]
  },
  {
   "cell_type": "code",
   "execution_count": 29,
   "metadata": {},
   "outputs": [
    {
     "data": {
      "text/plain": [
       "45005"
      ]
     },
     "execution_count": 29,
     "metadata": {},
     "output_type": "execute_result"
    }
   ],
   "source": [
    "summ#this much of 3 lines"
   ]
  },
  {
   "cell_type": "code",
   "execution_count": 30,
   "metadata": {},
   "outputs": [
    {
     "data": {
      "text/plain": [
       "5445600"
      ]
     },
     "execution_count": 30,
     "metadata": {},
     "output_type": "execute_result"
    }
   ],
   "source": [
    "45380*120"
   ]
  },
  {
   "cell_type": "code",
   "execution_count": 31,
   "metadata": {},
   "outputs": [
    {
     "data": {
      "text/plain": [
       "5445609"
      ]
     },
     "execution_count": 31,
     "metadata": {},
     "output_type": "execute_result"
    }
   ],
   "source": [
    "len(text)#reminder=9"
   ]
  },
  {
   "cell_type": "code",
   "execution_count": 32,
   "metadata": {},
   "outputs": [],
   "source": [
    "con=sequence.map(convert)"
   ]
  },
  {
   "cell_type": "code",
   "execution_count": 33,
   "metadata": {
    "scrolled": true
   },
   "outputs": [
    {
     "name": "stdout",
     "output_type": "stream",
     "text": [
      "[ 0  1  1  1  1  1  1  1  1  1  1  1  1  1  1  1  1  1  1  1  1  1 12  0\n",
      "  1  1 31 73 70 68  1 61 56 64 73 60 74 75  1 58 73 60 56 75 76 73 60 74\n",
      "  1 78 60  1 59 60 74 64 73 60  1 64 69 58 73 60 56 74 60  8  0  1  1 45\n",
      " 63 56 75  1 75 63 60 73 60 57 80  1 57 60 56 76 75 80  5 74  1 73 70 74\n",
      " 60  1 68 64 62 63 75  1 69 60 77 60 73  1 59 64 60  8  0  1  1 27 76 75]\n",
      "\n",
      "                     1\n",
      "  From fairest creatures we desire increase,\n",
      "  That thereby beauty's rose might never die,\n",
      "  But\n",
      "[ 1  1  1  1  1  1  1  1  1  1  1  1  1  1  1  1  1  1  1  1  1 12  0  1\n",
      "  1 31 73 70 68  1 61 56 64 73 60 74 75  1 58 73 60 56 75 76 73 60 74  1\n",
      " 78 60  1 59 60 74 64 73 60  1 64 69 58 73 60 56 74 60  8  0  1  1 45 63\n",
      " 56 75  1 75 63 60 73 60 57 80  1 57 60 56 76 75 80  5 74  1 73 70 74 60\n",
      "  1 68 64 62 63 75  1 69 60 77 60 73  1 59 64 60  8  0  1  1 27 76 75  1]\n",
      "                     1\n",
      "  From fairest creatures we desire increase,\n",
      "  That thereby beauty's rose might never die,\n",
      "  But \n"
     ]
    }
   ],
   "source": [
    "for inp,tar in con.take(1):\n",
    "    print(inp.numpy())\n",
    "    print(\"\".join(ind_to_char[inp.numpy()]))\n",
    "    print(tar.numpy())\n",
    "    print(\"\".join(ind_to_char[tar.numpy()]))#single blank space is extra here"
   ]
  },
  {
   "cell_type": "code",
   "execution_count": 34,
   "metadata": {},
   "outputs": [],
   "source": [
    "buzzer_size=10000\n",
    "dataset=con.shuffle(buzzer_size).batch(128,drop_remainder=True)#take a random of 10000 and take 128 from it\n",
    "#without using shuufe we may end up taking data from continous para s\n",
    "#picking from whole data set can cause memory leakage so we take random 10000 and take 128 from it"
   ]
  },
  {
   "cell_type": "code",
   "execution_count": 35,
   "metadata": {},
   "outputs": [
    {
     "data": {
      "text/plain": [
       "<BatchDataset shapes: ((128, 120), (128, 120)), types: (tf.int32, tf.int32)>"
      ]
     },
     "execution_count": 35,
     "metadata": {},
     "output_type": "execute_result"
    }
   ],
   "source": [
    "dataset#128 set of 120 tensor of ele containing encoded letters"
   ]
  },
  {
   "cell_type": "code",
   "execution_count": 36,
   "metadata": {},
   "outputs": [],
   "source": [
    "voc_len=len(vocab)"
   ]
  },
  {
   "cell_type": "code",
   "execution_count": 37,
   "metadata": {},
   "outputs": [],
   "source": [
    "embed_dim=64 #less than the voc_len as some of the vocab are not that important \n",
    "batch_size=128\n",
    "rnn_neurons=1026"
   ]
  },
  {
   "cell_type": "code",
   "execution_count": 38,
   "metadata": {},
   "outputs": [],
   "source": [
    "from tensorflow.keras.losses import SparseCategoricalCrossentropy"
   ]
  },
  {
   "cell_type": "code",
   "execution_count": 39,
   "metadata": {},
   "outputs": [
    {
     "data": {
      "text/plain": [
       "<tensorflow.python.keras.losses.SparseCategoricalCrossentropy at 0x1f0c148ba30>"
      ]
     },
     "execution_count": 39,
     "metadata": {},
     "output_type": "execute_result"
    }
   ],
   "source": [
    "SparseCategoricalCrossentropy()#if we check the params from_logit=False,we need it to be True\n",
    "#as we deal with encoded values"
   ]
  },
  {
   "cell_type": "code",
   "execution_count": 40,
   "metadata": {},
   "outputs": [],
   "source": [
    "def sparse_cat_crossentropy(y_true,pred):\n",
    "    return SparseCategoricalCrossentropy(y_true,pred,from_logits=True)\n",
    "#from_logits true as we pass encoded values\n",
    "#we create a functn to change the from_logits as we wont call the funcnt below we paqss the name of the funtn only"
   ]
  },
  {
   "cell_type": "code",
   "execution_count": 41,
   "metadata": {},
   "outputs": [],
   "source": [
    "from tensorflow.keras.models import Sequential\n",
    "from tensorflow.keras.layers import Dense,GRU,Embedding"
   ]
  },
  {
   "cell_type": "code",
   "execution_count": 42,
   "metadata": {},
   "outputs": [],
   "source": [
    "def create_model(voc_len,embed_dim,rnn_neurons,batch_size):\n",
    "    model=Sequential()\n",
    "    model.add(Embedding(voc_len,embed_dim,batch_input_shape=[batch_size,None]))\n",
    "    model.add(GRU(rnn_neurons,return_sequences=True,stateful=True,recurrent_initializer='glorot_uniform'))\n",
    "    model.add(Dense(voc_len)) \n",
    "    \n",
    "    model.compile(loss=sparse_cat_crossentropy,optimizer='adam')  \n",
    "    #sparse_cat_crossentropy passes y_true,pred\n",
    "    return model          \n",
    "    \n",
    "    "
   ]
  },
  {
   "cell_type": "code",
   "execution_count": 43,
   "metadata": {},
   "outputs": [],
   "source": [
    "sq=create_model(voc_len,embed_dim,rnn_neurons,batch_size)"
   ]
  },
  {
   "cell_type": "code",
   "execution_count": 44,
   "metadata": {},
   "outputs": [
    {
     "name": "stdout",
     "output_type": "stream",
     "text": [
      "Model: \"sequential\"\n",
      "_________________________________________________________________\n",
      "Layer (type)                 Output Shape              Param #   \n",
      "=================================================================\n",
      "embedding (Embedding)        (128, None, 64)           5376      \n",
      "_________________________________________________________________\n",
      "gru (GRU)                    (128, None, 1026)         3361176   \n",
      "_________________________________________________________________\n",
      "dense (Dense)                (128, None, 84)           86268     \n",
      "=================================================================\n",
      "Total params: 3,452,820\n",
      "Trainable params: 3,452,820\n",
      "Non-trainable params: 0\n",
      "_________________________________________________________________\n"
     ]
    }
   ],
   "source": [
    "sq.summary()"
   ]
  },
  {
   "cell_type": "code",
   "execution_count": 45,
   "metadata": {},
   "outputs": [],
   "source": [
    "#use google colab as we dont have a gpu"
   ]
  },
  {
   "cell_type": "code",
   "execution_count": 46,
   "metadata": {},
   "outputs": [],
   "source": [
    "from tensorflow.keras.models import load_model"
   ]
  },
  {
   "cell_type": "code",
   "execution_count": 72,
   "metadata": {},
   "outputs": [
    {
     "data": {
      "text/plain": [
       "TensorShape([128, 120, 84])"
      ]
     },
     "execution_count": 72,
     "metadata": {},
     "output_type": "execute_result"
    }
   ],
   "source": [
    "for que,ans in dataset.take(1):\n",
    "    pred=sq(que)#randomn pred as we didnt trai with anything yet..bunch of prob is the pred here\n",
    "pred.shape"
   ]
  },
  {
   "cell_type": "code",
   "execution_count": null,
   "metadata": {},
   "outputs": [],
   "source": []
  },
  {
   "cell_type": "code",
   "execution_count": 146,
   "metadata": {},
   "outputs": [
    {
     "data": {
      "text/plain": [
       "<tf.Tensor: shape=(120, 1), dtype=int64, numpy=\n",
       "array([[63],\n",
       "       [41],\n",
       "       [50],\n",
       "       [78],\n",
       "       [70],\n",
       "       [74],\n",
       "       [51],\n",
       "       [76],\n",
       "       [11],\n",
       "       [22],\n",
       "       [39],\n",
       "       [73],\n",
       "       [79],\n",
       "       [28],\n",
       "       [33],\n",
       "       [46],\n",
       "       [11],\n",
       "       [56],\n",
       "       [49],\n",
       "       [19],\n",
       "       [24],\n",
       "       [19],\n",
       "       [51],\n",
       "       [ 9],\n",
       "       [23],\n",
       "       [ 1],\n",
       "       [83],\n",
       "       [10],\n",
       "       [ 0],\n",
       "       [63],\n",
       "       [38],\n",
       "       [82],\n",
       "       [52],\n",
       "       [15],\n",
       "       [13],\n",
       "       [41],\n",
       "       [ 7],\n",
       "       [ 4],\n",
       "       [65],\n",
       "       [ 8],\n",
       "       [ 2],\n",
       "       [73],\n",
       "       [52],\n",
       "       [67],\n",
       "       [ 0],\n",
       "       [82],\n",
       "       [81],\n",
       "       [79],\n",
       "       [55],\n",
       "       [ 6],\n",
       "       [48],\n",
       "       [ 4],\n",
       "       [53],\n",
       "       [55],\n",
       "       [ 4],\n",
       "       [18],\n",
       "       [75],\n",
       "       [77],\n",
       "       [66],\n",
       "       [57],\n",
       "       [12],\n",
       "       [36],\n",
       "       [58],\n",
       "       [51],\n",
       "       [54],\n",
       "       [17],\n",
       "       [71],\n",
       "       [78],\n",
       "       [38],\n",
       "       [67],\n",
       "       [35],\n",
       "       [74],\n",
       "       [59],\n",
       "       [49],\n",
       "       [72],\n",
       "       [68],\n",
       "       [37],\n",
       "       [40],\n",
       "       [59],\n",
       "       [63],\n",
       "       [68],\n",
       "       [46],\n",
       "       [53],\n",
       "       [62],\n",
       "       [77],\n",
       "       [28],\n",
       "       [ 3],\n",
       "       [ 8],\n",
       "       [44],\n",
       "       [ 0],\n",
       "       [13],\n",
       "       [ 7],\n",
       "       [36],\n",
       "       [58],\n",
       "       [18],\n",
       "       [23],\n",
       "       [10],\n",
       "       [31],\n",
       "       [14],\n",
       "       [16],\n",
       "       [28],\n",
       "       [36],\n",
       "       [30],\n",
       "       [34],\n",
       "       [52],\n",
       "       [15],\n",
       "       [26],\n",
       "       [ 2],\n",
       "       [79],\n",
       "       [29],\n",
       "       [36],\n",
       "       [81],\n",
       "       [67],\n",
       "       [77],\n",
       "       [61],\n",
       "       [36],\n",
       "       [64],\n",
       "       [ 4],\n",
       "       [64],\n",
       "       [58]], dtype=int64)>"
      ]
     },
     "execution_count": 146,
     "metadata": {},
     "output_type": "execute_result"
    }
   ],
   "source": [
    "single_index=tf.random.categorical(pred[0],num_samples=1)#single index as we dont need prob for each\n",
    "#num_samples as we need only one ans\n",
    "single_index"
   ]
  },
  {
   "cell_type": "code",
   "execution_count": 147,
   "metadata": {},
   "outputs": [
    {
     "data": {
      "text/plain": [
       "<tf.Tensor: shape=(120,), dtype=int64, numpy=\n",
       "array([63, 41, 50, 78, 70, 74, 51, 76, 11, 22, 39, 73, 79, 28, 33, 46, 11,\n",
       "       56, 49, 19, 24, 19, 51,  9, 23,  1, 83, 10,  0, 63, 38, 82, 52, 15,\n",
       "       13, 41,  7,  4, 65,  8,  2, 73, 52, 67,  0, 82, 81, 79, 55,  6, 48,\n",
       "        4, 53, 55,  4, 18, 75, 77, 66, 57, 12, 36, 58, 51, 54, 17, 71, 78,\n",
       "       38, 67, 35, 74, 59, 49, 72, 68, 37, 40, 59, 63, 68, 46, 53, 62, 77,\n",
       "       28,  3,  8, 44,  0, 13,  7, 36, 58, 18, 23, 10, 31, 14, 16, 28, 36,\n",
       "       30, 34, 52, 15, 26,  2, 79, 29, 36, 81, 67, 77, 61, 36, 64,  4, 64,\n",
       "       58], dtype=int64)>"
      ]
     },
     "execution_count": 147,
     "metadata": {},
     "output_type": "execute_result"
    }
   ],
   "source": [
    "single_index=tf.squeeze(single_index,-1)#to squeeze it into one axis \n",
    "single_index"
   ]
  },
  {
   "cell_type": "code",
   "execution_count": 148,
   "metadata": {
    "scrolled": true
   },
   "outputs": [
    {
     "data": {
      "text/plain": [
       "array(['h', 'P', 'Y', 'w', 'o', 's', 'Z', 'u', '0', ';', 'N', 'r', 'x',\n",
       "       'C', 'H', 'U', '0', 'a', 'X', '8', '>', '8', 'Z', '-', '<', ' ',\n",
       "       '}', '.', '\\n', 'h', 'M', '|', '[', '4', '2', 'P', ')', '&', 'j',\n",
       "       ',', '!', 'r', '[', 'l', '\\n', '|', 'z', 'x', '`', '(', 'W', '&',\n",
       "       ']', '`', '&', '7', 't', 'v', 'k', 'b', '1', 'K', 'c', 'Z', '_',\n",
       "       '6', 'p', 'w', 'M', 'l', 'J', 's', 'd', 'X', 'q', 'm', 'L', 'O',\n",
       "       'd', 'h', 'm', 'U', ']', 'g', 'v', 'C', '\"', ',', 'S', '\\n', '2',\n",
       "       ')', 'K', 'c', '7', '<', '.', 'F', '3', '5', 'C', 'K', 'E', 'I',\n",
       "       '[', '4', 'A', '!', 'x', 'D', 'K', 'z', 'l', 'v', 'f', 'K', 'i',\n",
       "       '&', 'i', 'c'], dtype='<U1')"
      ]
     },
     "execution_count": 148,
     "metadata": {},
     "output_type": "execute_result"
    }
   ],
   "source": [
    "ind_to_char[single_index]#randomn pred as we didnt trai with anything yet..bunch of prob is the pred here"
   ]
  },
  {
   "cell_type": "code",
   "execution_count": 116,
   "metadata": {},
   "outputs": [],
   "source": [
    "mod=create_model(voc_len,embed_dim,rnn_neurons,1)"
   ]
  },
  {
   "cell_type": "code",
   "execution_count": 117,
   "metadata": {},
   "outputs": [],
   "source": [
    "mod.load_weights('shakespeare_gen.h5')"
   ]
  },
  {
   "cell_type": "code",
   "execution_count": 118,
   "metadata": {},
   "outputs": [],
   "source": [
    "mod.build(tf.TensorShape([1,None]))"
   ]
  },
  {
   "cell_type": "code",
   "execution_count": 119,
   "metadata": {},
   "outputs": [
    {
     "name": "stdout",
     "output_type": "stream",
     "text": [
      "Model: \"sequential_2\"\n",
      "_________________________________________________________________\n",
      "Layer (type)                 Output Shape              Param #   \n",
      "=================================================================\n",
      "embedding_2 (Embedding)      (1, None, 64)             5376      \n",
      "_________________________________________________________________\n",
      "gru_2 (GRU)                  (1, None, 1026)           3361176   \n",
      "_________________________________________________________________\n",
      "dense_2 (Dense)              (1, None, 84)             86268     \n",
      "=================================================================\n",
      "Total params: 3,452,820\n",
      "Trainable params: 3,452,820\n",
      "Non-trainable params: 0\n",
      "_________________________________________________________________\n"
     ]
    }
   ],
   "source": [
    "mod.summary()"
   ]
  },
  {
   "cell_type": "code",
   "execution_count": 127,
   "metadata": {},
   "outputs": [
    {
     "name": "stdout",
     "output_type": "stream",
     "text": [
      "tf.Tensor([[36 34 39 32]], shape=(1, 4), dtype=int32)\n",
      "KINGESts, sure, E\n",
      "    From ose of youth, not poor indeed I liv'd,\n",
      "    Nor wife much wrong, when I should fear is silent.\n",
      "  OTHELLO. O, I am in forbearer; be the place,\n",
      "    Prizer. What! without muttons boister,\n",
      "    A sinny spirit; let look sad round about\n",
      "    From so the change of fortune.\n",
      "  IAGO. By his beast-\n",
      "  BISHOP OF EVALOUS. 'That man at learning, and 'a was not\n",
      "    You may besee;\n",
      "    Here we shall have them fish his action.\n",
      "  GERTIMAN. You taste, let Antony is lae, against these coats.\n",
      "  BAS\n"
     ]
    }
   ],
   "source": [
    "def predict_text(model,string,gen_size,temp=1.0):\n",
    "    input_val=[char_to_ind[i] for i in string]\n",
    "    input_eval=tf.expand_dims(input_val,0)#to get the shape(put into a single array thats all)\n",
    "    print(input_eval)\n",
    "    text=[]\n",
    "    model.reset_states()\n",
    "    for i in range(gen_size):\n",
    "        pred=model(input_eval)\n",
    "        pred=tf.squeeze(pred,0)#take thevalues from seperate array and put into the main list\n",
    "        pred=pred/temp#temperature is the learning rate  of a model\n",
    "        pred=tf.random.categorical(pred,num_samples=1)[-1,0].numpy()#just formatiing\n",
    "        input_eval=tf.expand_dims([pred],0)#to get the shape(put into a single array thats all)\n",
    "        text.append(ind_to_char[pred])\n",
    "    return(string+\"\".join(text))\n",
    "print(predict_text(mod,\"KING\",500))    "
   ]
  },
  {
   "cell_type": "code",
   "execution_count": 128,
   "metadata": {},
   "outputs": [
    {
     "name": "stdout",
     "output_type": "stream",
     "text": [
      "tf.Tensor([[36 34 39 32]], shape=(1, 4), dtype=int32)\n",
      "KINGETH 'Sey Sir Virona, I do feed myself\n",
      "    From like head of his accidents; they can into her leg, a soldier-by\n",
      "    uncleanlest France.\n",
      "  POBTOL. I am no child; now, in good faith, it should be distable.\n",
      "  THURIO. What, for a time, A friend?\n",
      "  PAGE. Upon this surely stopp'd, I'll entertain myself:\n",
      "    The first and white hair does, stand you with spoils\n",
      "    At leisour for thee, antituith unto my word.\n",
      "  LADY MACDUFF. Such matrons have you question,\n",
      "    We'll back thy slanders both. What would the\n"
     ]
    }
   ],
   "source": [
    "print(predict_text(mod,\"KING\",500))"
   ]
  },
  {
   "cell_type": "code",
   "execution_count": 130,
   "metadata": {},
   "outputs": [],
   "source": [
    "s=np.array([[1,2,3]])"
   ]
  },
  {
   "cell_type": "code",
   "execution_count": 131,
   "metadata": {
    "scrolled": true
   },
   "outputs": [
    {
     "data": {
      "text/plain": [
       "array([[1, 2, 3]])"
      ]
     },
     "execution_count": 131,
     "metadata": {},
     "output_type": "execute_result"
    }
   ],
   "source": [
    "s"
   ]
  },
  {
   "cell_type": "code",
   "execution_count": 132,
   "metadata": {},
   "outputs": [
    {
     "data": {
      "text/plain": [
       "(1, 3)"
      ]
     },
     "execution_count": 132,
     "metadata": {},
     "output_type": "execute_result"
    }
   ],
   "source": [
    "s.shape"
   ]
  },
  {
   "cell_type": "code",
   "execution_count": 137,
   "metadata": {},
   "outputs": [
    {
     "data": {
      "text/plain": [
       "1"
      ]
     },
     "execution_count": 137,
     "metadata": {},
     "output_type": "execute_result"
    }
   ],
   "source": []
  },
  {
   "cell_type": "code",
   "execution_count": null,
   "metadata": {},
   "outputs": [],
   "source": []
  }
 ],
 "metadata": {
  "kernelspec": {
   "display_name": "Python 3",
   "language": "python",
   "name": "python3"
  },
  "language_info": {
   "codemirror_mode": {
    "name": "ipython",
    "version": 3
   },
   "file_extension": ".py",
   "mimetype": "text/x-python",
   "name": "python",
   "nbconvert_exporter": "python",
   "pygments_lexer": "ipython3",
   "version": "3.8.5"
  }
 },
 "nbformat": 4,
 "nbformat_minor": 4
}
